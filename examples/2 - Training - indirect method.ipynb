{
 "cells": [
  {
   "cell_type": "markdown",
   "metadata": {},
   "source": [
    "### Training deep neural networks\n",
    "\n",
    "@cesans"
   ]
  },
  {
   "cell_type": "code",
   "execution_count": 4,
   "metadata": {
    "collapsed": true
   },
   "outputs": [],
   "source": [
    "import matplotlib.pyplot as plt\n",
    "%matplotlib inline"
   ]
  },
  {
   "cell_type": "code",
   "execution_count": 5,
   "metadata": {
    "collapsed": false
   },
   "outputs": [],
   "source": [
    "import sys\n",
    "sys.path.append('../')\n",
    "import numpy as np\n",
    "\n",
    "import deep_control as dc\n",
    "\n",
    "import pandas\n",
    "import seaborn as sns"
   ]
  },
  {
   "cell_type": "markdown",
   "metadata": {},
   "source": [
    "### Loading data"
   ]
  },
  {
   "cell_type": "markdown",
   "metadata": {},
   "source": [
    "Previously generated trajectories can be loaded with *dc.data.load_trajectories*"
   ]
  },
  {
   "cell_type": "code",
   "execution_count": 6,
   "metadata": {
    "collapsed": false
   },
   "outputs": [],
   "source": [
    "import glob\n",
    "import pickle\n",
    "from tqdm import tqdm\n",
    "\n",
    "files = glob.glob('../data/simple/*pic')"
   ]
  },
  {
   "cell_type": "code",
   "execution_count": 7,
   "metadata": {
    "collapsed": false
   },
   "outputs": [
    {
     "name": "stderr",
     "output_type": "stream",
     "text": [
      "100%|██████████| 837/837 [00:37<00:00, 21.80it/s]\n"
     ]
    }
   ],
   "source": [
    "total = 0\n",
    "trajs = []\n",
    "for f in tqdm(files, leave=True):    \n",
    "        rw = pickle.load(open(f,'rb'))\n",
    "        for rwi in rw:\n",
    "            traj = np.hstack((rwi[0], rwi[1]))\n",
    "            df = pandas.DataFrame(data=traj)\n",
    "            col_names = ['t', 'x', 'y', 'z', 'vz', 'm', 'u1', 'u2']\n",
    "            df.columns = col_names\n",
    "            trajs.append(df)\n"
   ]
  },
  {
   "cell_type": "code",
   "execution_count": 8,
   "metadata": {
    "collapsed": false
   },
   "outputs": [],
   "source": [
    "ini_ps = np.vstack([t.values[0,:] for t in trajs])"
   ]
  },
  {
   "cell_type": "code",
   "execution_count": 9,
   "metadata": {
    "collapsed": false
   },
   "outputs": [
    {
     "data": {
      "image/png": "[encoded data removed]",
      "text/plain": [
       "<matplotlib.figure.Figure at 0x7efd360b5400>"
      ]
     },
     "metadata": {},
     "output_type": "display_data"
    }
   ],
   "source": [
    "for i in range(3):\n",
    "    for j in range(2):\n",
    "        if i!=0 or j!= 0:\n",
    "            plt.subplot(2,3,i*2+j)\n",
    "            plt.hist(ini_ps[:,i*2+j],59)\n",
    "            plt.locator_params(nbins=4)            \n",
    "            \n",
    "plt.tight_layout()            "
   ]
  },
  {
   "cell_type": "markdown",
   "metadata": {},
   "source": [
    "## Training"
   ]
  },
  {
   "cell_type": "markdown",
   "metadata": {},
   "source": [
    "From the trajectories we can generate the training sets:"
   ]
  },
  {
   "cell_type": "code",
   "execution_count": 10,
   "metadata": {
    "collapsed": false
   },
   "outputs": [
    {
     "name": "stderr",
     "output_type": "stream",
     "text": [
      "Creating training data: 100%|██████████| 127947/127947 [00:21<00:00, 5917.57it/s]\n",
      "Creating test data: 100%|██████████| 14217/14217 [00:02<00:00, 5644.80it/s]\n"
     ]
    }
   ],
   "source": [
    "train_p = 0.9 # proportion of training data\n",
    "x_train, y_train, x_test, y_test, idx_train = dc.data.create_training_data(trajs, train_p = train_p, n_outputs=2)"
   ]
  },
  {
   "cell_type": "code",
   "execution_count": 11,
   "metadata": {
    "collapsed": false
   },
   "outputs": [],
   "source": [
    "dc.nn.save_training_data([x_train, y_train, x_test, y_test, idx_train], \"indirect_simple\")"
   ]
  },
  {
   "cell_type": "markdown",
   "metadata": {},
   "source": [
    "We specify a model to train"
   ]
  },
  {
   "cell_type": "code",
   "execution_count": 12,
   "metadata": {
    "collapsed": false
   },
   "outputs": [],
   "source": [
    "model_description = {\"data\": \"indirect_simple\",\n",
    "                     \"control\": dc.nn.DTHETA,\n",
    "                     \"nlayers\": 3,\n",
    "                     \"units\": 32, \n",
    "                     \"output_mode\": dc.nn.OUTPUT_LOG, \n",
    "                     \"dropout\": False,\n",
    "                     \"batch_size\": 8, \n",
    "                     \"epochs\": 32, \n",
    "                     \"lr\": 0.001,\n",
    "                     \"input_vars\" : 5,\n",
    "                     \"hidden_nonlinearity\": \"ReLu\"}"
   ]
  },
  {
   "cell_type": "code",
   "execution_count": 13,
   "metadata": {
    "collapsed": false,
    "scrolled": true
   },
   "outputs": [
    {
     "name": "stdout",
     "output_type": "stream",
     "text": [
      "=====  MODEL ===========\n",
      "dropout:False\n",
      "epochs:32\n",
      "nlayers:3\n",
      "input_vars:5\n",
      "lr:0.001\n",
      "units:32\n",
      "batch_size:8\n",
      "control:1\n",
      "output_mode:0\n",
      "hidden_nonlinearity:ReLu\n",
      "data:indirect_simple\n",
      "========================\n",
      "Loading data...\n",
      "=======================\n",
      "Preprocessing...\n"
     ]
    },
    {
     "name": "stderr",
     "output_type": "stream",
     "text": [
      "Training, epoch 0:   0%|          | 601/1599337 [00:00<04:26, 6009.40it/s]"
     ]
    },
    {
     "name": "stdout",
     "output_type": "stream",
     "text": [
      "=======================\n",
      "Training...\n"
     ]
    },
    {
     "name": "stderr",
     "output_type": "stream",
     "text": [
      "Training, epoch 0: 100%|██████████| 1599337/1599337 [04:33<00:00, 5839.23it/s]\n"
     ]
    },
    {
     "name": "stdout",
     "output_type": "stream",
     "text": [
      "epoch 0, train loss: 0.0006373089709322829\n"
     ]
    },
    {
     "name": "stderr",
     "output_type": "stream",
     "text": [
      "Training, epoch 1:   0%|          | 667/1599337 [00:00<08:03, 3305.07it/s]"
     ]
    },
    {
     "name": "stdout",
     "output_type": "stream",
     "text": [
      "epoch 0, test loss: 0.00038678372706589824\n"
     ]
    },
    {
     "name": "stderr",
     "output_type": "stream",
     "text": [
      "Training, epoch 1: 100%|██████████| 1599337/1599337 [04:28<00:00, 5949.27it/s]\n"
     ]
    },
    {
     "name": "stdout",
     "output_type": "stream",
     "text": [
      "epoch 1, train loss: 0.0003145514338673121\n"
     ]
    },
    {
     "name": "stderr",
     "output_type": "stream",
     "text": [
      "Training, epoch 2:   0%|          | 1221/1599337 [00:00<04:21, 6110.82it/s]"
     ]
    },
    {
     "name": "stdout",
     "output_type": "stream",
     "text": [
      "epoch 1, test loss: 0.00034826741502275133\n"
     ]
    },
    {
     "name": "stderr",
     "output_type": "stream",
     "text": [
      "Training, epoch 2: 100%|██████████| 1599337/1599337 [04:28<00:00, 5951.96it/s]\n"
     ]
    },
    {
     "name": "stdout",
     "output_type": "stream",
     "text": [
      "epoch 2, train loss: 0.00028231348443868125\n"
     ]
    },
    {
     "name": "stderr",
     "output_type": "stream",
     "text": [
      "Training, epoch 3:   0%|          | 619/1599337 [00:00<04:18, 6187.20it/s]"
     ]
    },
    {
     "name": "stdout",
     "output_type": "stream",
     "text": [
      "epoch 2, test loss: 0.00032272339936163585\n"
     ]
    },
    {
     "name": "stderr",
     "output_type": "stream",
     "text": [
      "Training, epoch 3: 100%|██████████| 1599337/1599337 [04:26<00:00, 6005.81it/s]\n"
     ]
    },
    {
     "name": "stdout",
     "output_type": "stream",
     "text": [
      "epoch 3, train loss: 0.00026524382633355076\n"
     ]
    },
    {
     "name": "stderr",
     "output_type": "stream",
     "text": [
      "Training, epoch 4:   0%|          | 1255/1599337 [00:00<04:15, 6264.70it/s]"
     ]
    },
    {
     "name": "stdout",
     "output_type": "stream",
     "text": [
      "epoch 3, test loss: 0.00029301374043550973\n"
     ]
    },
    {
     "name": "stderr",
     "output_type": "stream",
     "text": [
      "Training, epoch 4: 100%|██████████| 1599337/1599337 [04:22<00:00, 6093.60it/s]\n"
     ]
    },
    {
     "name": "stdout",
     "output_type": "stream",
     "text": [
      "epoch 4, train loss: 0.00025406430961393966\n"
     ]
    },
    {
     "name": "stderr",
     "output_type": "stream",
     "text": [
      "Training, epoch 5:   0%|          | 1270/1599337 [00:00<04:10, 6369.65it/s]"
     ]
    },
    {
     "name": "stdout",
     "output_type": "stream",
     "text": [
      "epoch 4, test loss: 0.0002847632829792644\n"
     ]
    },
    {
     "name": "stderr",
     "output_type": "stream",
     "text": [
      "Training, epoch 5: 100%|██████████| 1599337/1599337 [04:21<00:00, 6110.55it/s]\n"
     ]
    },
    {
     "name": "stdout",
     "output_type": "stream",
     "text": [
      "epoch 5, train loss: 0.0002459693709504273\n"
     ]
    },
    {
     "name": "stderr",
     "output_type": "stream",
     "text": [
      "Training, epoch 6:   0%|          | 1264/1599337 [00:00<04:12, 6339.11it/s]"
     ]
    },
    {
     "name": "stdout",
     "output_type": "stream",
     "text": [
      "epoch 5, test loss: 0.00027718491134029574\n"
     ]
    },
    {
     "name": "stderr",
     "output_type": "stream",
     "text": [
      "Training, epoch 6: 100%|██████████| 1599337/1599337 [04:20<00:00, 6144.70it/s]\n"
     ]
    },
    {
     "name": "stdout",
     "output_type": "stream",
     "text": [
      "epoch 6, train loss: 0.00023980270751166677\n"
     ]
    },
    {
     "name": "stderr",
     "output_type": "stream",
     "text": [
      "Training, epoch 7:   0%|          | 1261/1599337 [00:00<04:13, 6306.93it/s]"
     ]
    },
    {
     "name": "stdout",
     "output_type": "stream",
     "text": [
      "epoch 6, test loss: 0.00026801260270961776\n"
     ]
    },
    {
     "name": "stderr",
     "output_type": "stream",
     "text": [
      "Training, epoch 7: 100%|██████████| 1599337/1599337 [04:20<00:00, 6139.96it/s]\n"
     ]
    },
    {
     "name": "stdout",
     "output_type": "stream",
     "text": [
      "epoch 7, train loss: 0.00023497085227175752\n"
     ]
    },
    {
     "name": "stderr",
     "output_type": "stream",
     "text": [
      "Training, epoch 8:   0%|          | 639/1599337 [00:00<04:10, 6384.57it/s]"
     ]
    },
    {
     "name": "stdout",
     "output_type": "stream",
     "text": [
      "epoch 7, test loss: 0.00027158589664055415\n"
     ]
    },
    {
     "name": "stderr",
     "output_type": "stream",
     "text": [
      "Training, epoch 8: 100%|██████████| 1599337/1599337 [04:20<00:00, 6149.88it/s]\n"
     ]
    },
    {
     "name": "stdout",
     "output_type": "stream",
     "text": [
      "epoch 8, train loss: 0.00023088514367892646\n"
     ]
    },
    {
     "name": "stderr",
     "output_type": "stream",
     "text": [
      "Training, epoch 9:   0%|          | 349/1599337 [00:00<07:38, 3486.65it/s]"
     ]
    },
    {
     "name": "stdout",
     "output_type": "stream",
     "text": [
      "epoch 8, test loss: 0.0002699031283070909\n"
     ]
    },
    {
     "name": "stderr",
     "output_type": "stream",
     "text": [
      "Training, epoch 9: 100%|██████████| 1599337/1599337 [04:20<00:00, 6128.02it/s]\n"
     ]
    },
    {
     "name": "stdout",
     "output_type": "stream",
     "text": [
      "epoch 9, train loss: 0.00022706499999582385\n"
     ]
    },
    {
     "name": "stderr",
     "output_type": "stream",
     "text": [
      "Training, epoch 10:   0%|          | 642/1599337 [00:00<04:09, 6415.57it/s]"
     ]
    },
    {
     "name": "stdout",
     "output_type": "stream",
     "text": [
      "epoch 9, test loss: 0.0002615934125578803\n"
     ]
    },
    {
     "name": "stderr",
     "output_type": "stream",
     "text": [
      "Training, epoch 10: 100%|██████████| 1599337/1599337 [04:20<00:00, 6139.35it/s]\n"
     ]
    },
    {
     "name": "stdout",
     "output_type": "stream",
     "text": [
      "epoch 10, train loss: 0.00022361398960869377\n"
     ]
    },
    {
     "name": "stderr",
     "output_type": "stream",
     "text": [
      "Training, epoch 11:   0%|          | 644/1599337 [00:00<04:08, 6437.54it/s]"
     ]
    },
    {
     "name": "stdout",
     "output_type": "stream",
     "text": [
      "epoch 10, test loss: 0.0002545812819024401\n"
     ]
    },
    {
     "name": "stderr",
     "output_type": "stream",
     "text": [
      "Training, epoch 11: 100%|██████████| 1599337/1599337 [04:18<00:00, 6191.37it/s]\n"
     ]
    },
    {
     "name": "stdout",
     "output_type": "stream",
     "text": [
      "epoch 11, train loss: 0.0002206099414499351\n"
     ]
    },
    {
     "name": "stderr",
     "output_type": "stream",
     "text": [
      "Training, epoch 12:   0%|          | 633/1599337 [00:00<04:12, 6329.43it/s]"
     ]
    },
    {
     "name": "stdout",
     "output_type": "stream",
     "text": [
      "epoch 11, test loss: 0.00025020702642242855\n"
     ]
    },
    {
     "name": "stderr",
     "output_type": "stream",
     "text": [
      "Training, epoch 12: 100%|██████████| 1599337/1599337 [04:18<00:00, 6178.83it/s]\n"
     ]
    },
    {
     "name": "stdout",
     "output_type": "stream",
     "text": [
      "epoch 12, train loss: 0.00021787508232699553\n"
     ]
    },
    {
     "name": "stderr",
     "output_type": "stream",
     "text": [
      "Training, epoch 13:   0%|          | 1263/1599337 [00:00<04:12, 6332.42it/s]"
     ]
    },
    {
     "name": "stdout",
     "output_type": "stream",
     "text": [
      "epoch 12, test loss: 0.00024896506360387675\n"
     ]
    },
    {
     "name": "stderr",
     "output_type": "stream",
     "text": [
      "Training, epoch 13: 100%|██████████| 1599337/1599337 [04:18<00:00, 6184.43it/s]\n"
     ]
    },
    {
     "name": "stdout",
     "output_type": "stream",
     "text": [
      "epoch 13, train loss: 0.00021545353532720685\n"
     ]
    },
    {
     "name": "stderr",
     "output_type": "stream",
     "text": [
      "Training, epoch 14:   0%|          | 1278/1599337 [00:00<04:08, 6430.47it/s]"
     ]
    },
    {
     "name": "stdout",
     "output_type": "stream",
     "text": [
      "epoch 13, test loss: 0.0002419421755350103\n"
     ]
    },
    {
     "name": "stderr",
     "output_type": "stream",
     "text": [
      "Training, epoch 14: 100%|██████████| 1599337/1599337 [04:19<00:00, 6156.83it/s]\n"
     ]
    },
    {
     "name": "stdout",
     "output_type": "stream",
     "text": [
      "epoch 14, train loss: 0.00021324852330045817\n"
     ]
    },
    {
     "name": "stderr",
     "output_type": "stream",
     "text": [
      "Training, epoch 15:   0%|          | 1253/1599337 [00:00<04:17, 6210.48it/s]"
     ]
    },
    {
     "name": "stdout",
     "output_type": "stream",
     "text": [
      "epoch 14, test loss: 0.00024070578136604039\n"
     ]
    },
    {
     "name": "stderr",
     "output_type": "stream",
     "text": [
      "Training, epoch 15: 100%|██████████| 1599337/1599337 [04:18<00:00, 6175.21it/s]\n"
     ]
    },
    {
     "name": "stdout",
     "output_type": "stream",
     "text": [
      "epoch 15, train loss: 0.00021135411715125812\n"
     ]
    },
    {
     "name": "stderr",
     "output_type": "stream",
     "text": [
      "Training, epoch 16:   0%|          | 638/1599337 [00:00<04:10, 6372.46it/s]"
     ]
    },
    {
     "name": "stdout",
     "output_type": "stream",
     "text": [
      "epoch 15, test loss: 0.00023514751740184818\n"
     ]
    },
    {
     "name": "stderr",
     "output_type": "stream",
     "text": [
      "Training, epoch 16: 100%|██████████| 1599337/1599337 [04:18<00:00, 6179.20it/s]\n"
     ]
    },
    {
     "name": "stdout",
     "output_type": "stream",
     "text": [
      "epoch 16, train loss: 0.00020981609693187543\n"
     ]
    },
    {
     "name": "stderr",
     "output_type": "stream",
     "text": [
      "Training, epoch 17:   0%|          | 642/1599337 [00:00<04:09, 6419.70it/s]"
     ]
    },
    {
     "name": "stdout",
     "output_type": "stream",
     "text": [
      "epoch 16, test loss: 0.00023336502020343677\n"
     ]
    },
    {
     "name": "stderr",
     "output_type": "stream",
     "text": [
      "Training, epoch 17: 100%|██████████| 1599337/1599337 [04:19<00:00, 6159.07it/s]\n"
     ]
    },
    {
     "name": "stdout",
     "output_type": "stream",
     "text": [
      "epoch 17, train loss: 0.00020819841316942469\n"
     ]
    },
    {
     "name": "stderr",
     "output_type": "stream",
     "text": [
      "Training, epoch 18:   0%|          | 1273/1599337 [00:00<04:10, 6378.89it/s]"
     ]
    },
    {
     "name": "stdout",
     "output_type": "stream",
     "text": [
      "epoch 17, test loss: 0.00023193489767034842\n"
     ]
    },
    {
     "name": "stderr",
     "output_type": "stream",
     "text": [
      "Training, epoch 18: 100%|██████████| 1599337/1599337 [04:19<00:00, 6164.11it/s]\n"
     ]
    },
    {
     "name": "stdout",
     "output_type": "stream",
     "text": [
      "epoch 18, train loss: 0.0002065878517426104\n"
     ]
    },
    {
     "name": "stderr",
     "output_type": "stream",
     "text": [
      "Training, epoch 19:   0%|          | 634/1599337 [00:00<04:12, 6336.02it/s]"
     ]
    },
    {
     "name": "stdout",
     "output_type": "stream",
     "text": [
      "epoch 18, test loss: 0.0002298832130930101\n"
     ]
    },
    {
     "name": "stderr",
     "output_type": "stream",
     "text": [
      "Training, epoch 19: 100%|██████████| 1599337/1599337 [04:20<00:00, 6149.14it/s]\n"
     ]
    },
    {
     "name": "stdout",
     "output_type": "stream",
     "text": [
      "epoch 19, train loss: 0.00020541967588628312\n"
     ]
    },
    {
     "name": "stderr",
     "output_type": "stream",
     "text": [
      "Training, epoch 20:   0%|          | 645/1599337 [00:00<04:07, 6449.11it/s]"
     ]
    },
    {
     "name": "stdout",
     "output_type": "stream",
     "text": [
      "epoch 19, test loss: 0.00022347791530259495\n"
     ]
    },
    {
     "name": "stderr",
     "output_type": "stream",
     "text": [
      "Training, epoch 20: 100%|██████████| 1599337/1599337 [04:19<00:00, 6166.16it/s]\n"
     ]
    },
    {
     "name": "stdout",
     "output_type": "stream",
     "text": [
      "epoch 20, train loss: 0.00020428435429904399\n"
     ]
    },
    {
     "name": "stderr",
     "output_type": "stream",
     "text": [
      "Training, epoch 21:   0%|          | 590/1599337 [00:00<04:31, 5896.63it/s]"
     ]
    },
    {
     "name": "stdout",
     "output_type": "stream",
     "text": [
      "epoch 20, test loss: 0.00022200282440475188\n"
     ]
    },
    {
     "name": "stderr",
     "output_type": "stream",
     "text": [
      "Training, epoch 21: 100%|██████████| 1599337/1599337 [04:18<00:00, 6177.46it/s]\n"
     ]
    },
    {
     "name": "stdout",
     "output_type": "stream",
     "text": [
      "epoch 21, train loss: 0.00020309834667505856\n"
     ]
    },
    {
     "name": "stderr",
     "output_type": "stream",
     "text": [
      "Training, epoch 22:   0%|          | 642/1599337 [00:00<04:09, 6412.47it/s]"
     ]
    },
    {
     "name": "stdout",
     "output_type": "stream",
     "text": [
      "epoch 21, test loss: 0.00022111317411645034\n"
     ]
    },
    {
     "name": "stderr",
     "output_type": "stream",
     "text": [
      "Training, epoch 22: 100%|██████████| 1599337/1599337 [04:19<00:00, 6164.94it/s]\n"
     ]
    },
    {
     "name": "stdout",
     "output_type": "stream",
     "text": [
      "epoch 22, train loss: 0.00020181982417131347\n"
     ]
    },
    {
     "name": "stderr",
     "output_type": "stream",
     "text": [
      "Training, epoch 23:   0%|          | 641/1599337 [00:00<04:09, 6403.76it/s]"
     ]
    },
    {
     "name": "stdout",
     "output_type": "stream",
     "text": [
      "epoch 22, test loss: 0.00022528536136975824\n"
     ]
    },
    {
     "name": "stderr",
     "output_type": "stream",
     "text": [
      "Training, epoch 23: 100%|██████████| 1599337/1599337 [04:18<00:00, 6183.53it/s]\n"
     ]
    },
    {
     "name": "stdout",
     "output_type": "stream",
     "text": [
      "epoch 23, train loss: 0.00020052107563027982\n"
     ]
    },
    {
     "name": "stderr",
     "output_type": "stream",
     "text": [
      "Training, epoch 24:   0%|          | 620/1599337 [00:00<04:18, 6191.67it/s]"
     ]
    },
    {
     "name": "stdout",
     "output_type": "stream",
     "text": [
      "epoch 23, test loss: 0.00022343175595769454\n"
     ]
    },
    {
     "name": "stderr",
     "output_type": "stream",
     "text": [
      "Training, epoch 24: 100%|██████████| 1599337/1599337 [04:19<00:00, 6151.41it/s]\n"
     ]
    },
    {
     "name": "stdout",
     "output_type": "stream",
     "text": [
      "epoch 24, train loss: 0.00019946890302249083\n"
     ]
    },
    {
     "name": "stderr",
     "output_type": "stream",
     "text": [
      "Training, epoch 25:   0%|          | 1273/1599337 [00:00<04:09, 6392.99it/s]"
     ]
    },
    {
     "name": "stdout",
     "output_type": "stream",
     "text": [
      "epoch 24, test loss: 0.00022021396491714968\n"
     ]
    },
    {
     "name": "stderr",
     "output_type": "stream",
     "text": [
      "Training, epoch 25: 100%|██████████| 1599337/1599337 [04:19<00:00, 6154.01it/s]\n"
     ]
    },
    {
     "name": "stdout",
     "output_type": "stream",
     "text": [
      "epoch 25, train loss: 0.00019872957040264246\n"
     ]
    },
    {
     "name": "stderr",
     "output_type": "stream",
     "text": [
      "Training, epoch 26:   0%|          | 1180/1599337 [00:00<04:33, 5837.73it/s]"
     ]
    },
    {
     "name": "stdout",
     "output_type": "stream",
     "text": [
      "epoch 25, test loss: 0.00021158264301140517\n"
     ]
    },
    {
     "name": "stderr",
     "output_type": "stream",
     "text": [
      "Training, epoch 26: 100%|██████████| 1599337/1599337 [04:20<00:00, 6133.03it/s]\n"
     ]
    },
    {
     "name": "stdout",
     "output_type": "stream",
     "text": [
      "epoch 26, train loss: 0.00019762137235072118\n"
     ]
    },
    {
     "name": "stderr",
     "output_type": "stream",
     "text": [
      "Training, epoch 27:   0%|          | 1280/1599337 [00:00<04:08, 6419.56it/s]"
     ]
    },
    {
     "name": "stdout",
     "output_type": "stream",
     "text": [
      "epoch 26, test loss: 0.00021146775092180362\n"
     ]
    },
    {
     "name": "stderr",
     "output_type": "stream",
     "text": [
      "Training, epoch 27: 100%|██████████| 1599337/1599337 [04:20<00:00, 6148.90it/s]\n"
     ]
    },
    {
     "name": "stdout",
     "output_type": "stream",
     "text": [
      "epoch 27, train loss: 0.0001970014436394374\n"
     ]
    },
    {
     "name": "stderr",
     "output_type": "stream",
     "text": [
      "Training, epoch 28:   0%|          | 1277/1599337 [00:00<04:10, 6368.84it/s]"
     ]
    },
    {
     "name": "stdout",
     "output_type": "stream",
     "text": [
      "epoch 27, test loss: 0.00020529203776629626\n"
     ]
    },
    {
     "name": "stderr",
     "output_type": "stream",
     "text": [
      "Training, epoch 28: 100%|██████████| 1599337/1599337 [04:19<00:00, 6173.29it/s]\n"
     ]
    },
    {
     "name": "stdout",
     "output_type": "stream",
     "text": [
      "epoch 28, train loss: 0.00019614945718388475\n"
     ]
    },
    {
     "name": "stderr",
     "output_type": "stream",
     "text": [
      "Training, epoch 29:   0%|          | 1244/1599337 [00:00<04:14, 6276.44it/s]"
     ]
    },
    {
     "name": "stdout",
     "output_type": "stream",
     "text": [
      "epoch 28, test loss: 0.0002051273822630048\n"
     ]
    },
    {
     "name": "stderr",
     "output_type": "stream",
     "text": [
      "Training, epoch 29: 100%|██████████| 1599337/1599337 [04:19<00:00, 6160.94it/s]\n"
     ]
    },
    {
     "name": "stdout",
     "output_type": "stream",
     "text": [
      "epoch 29, train loss: 0.00019554131777298463\n"
     ]
    },
    {
     "name": "stderr",
     "output_type": "stream",
     "text": [
      "Training, epoch 30:   0%|          | 1230/1599337 [00:00<04:19, 6163.60it/s]"
     ]
    },
    {
     "name": "stdout",
     "output_type": "stream",
     "text": [
      "epoch 29, test loss: 0.00020333155443615512\n"
     ]
    },
    {
     "name": "stderr",
     "output_type": "stream",
     "text": [
      "Training, epoch 30: 100%|██████████| 1599337/1599337 [04:19<00:00, 6163.65it/s]\n"
     ]
    },
    {
     "name": "stdout",
     "output_type": "stream",
     "text": [
      "epoch 30, train loss: 0.00019447486356765506\n"
     ]
    },
    {
     "name": "stderr",
     "output_type": "stream",
     "text": [
      "Training, epoch 31:   0%|          | 646/1599337 [00:00<04:07, 6456.30it/s]"
     ]
    },
    {
     "name": "stdout",
     "output_type": "stream",
     "text": [
      "epoch 30, test loss: 0.00019995808200671603\n"
     ]
    },
    {
     "name": "stderr",
     "output_type": "stream",
     "text": [
      "Training, epoch 31: 100%|██████████| 1599337/1599337 [04:19<00:00, 6155.54it/s]\n"
     ]
    },
    {
     "name": "stdout",
     "output_type": "stream",
     "text": [
      "epoch 31, train loss: 0.00019363944590822165\n",
      "epoch 31, test loss: 0.0002024154966392771\n"
     ]
    }
   ],
   "source": [
    "dc.nn.train(model_description)"
   ]
  },
  {
   "cell_type": "code",
   "execution_count": 14,
   "metadata": {
    "collapsed": false,
    "scrolled": true
   },
   "outputs": [
    {
     "name": "stdout",
     "output_type": "stream",
     "text": [
      "=====  MODEL ===========\n",
      "dropout:False\n",
      "epochs:32\n",
      "nlayers:3\n",
      "input_vars:5\n",
      "lr:0.001\n",
      "units:32\n",
      "batch_size:8\n",
      "control:0\n",
      "output_mode:0\n",
      "hidden_nonlinearity:ReLu\n",
      "data:indirect_simple\n",
      "========================\n",
      "Loading data...\n",
      "=======================\n",
      "Preprocessing...\n"
     ]
    },
    {
     "name": "stderr",
     "output_type": "stream",
     "text": [
      "Training, epoch 0:   0%|          | 1210/1599337 [00:00<04:24, 6053.25it/s]"
     ]
    },
    {
     "name": "stdout",
     "output_type": "stream",
     "text": [
      "=======================\n",
      "Training...\n"
     ]
    },
    {
     "name": "stderr",
     "output_type": "stream",
     "text": [
      "Training, epoch 0: 100%|██████████| 1599337/1599337 [04:21<00:00, 6107.04it/s]\n"
     ]
    },
    {
     "name": "stdout",
     "output_type": "stream",
     "text": [
      "epoch 0, train loss: 0.026168391525138338\n"
     ]
    },
    {
     "name": "stderr",
     "output_type": "stream",
     "text": [
      "Training, epoch 1:   0%|          | 1257/1599337 [00:00<04:13, 6305.44it/s]"
     ]
    },
    {
     "name": "stdout",
     "output_type": "stream",
     "text": [
      "epoch 0, test loss: 0.01795889682927498\n"
     ]
    },
    {
     "name": "stderr",
     "output_type": "stream",
     "text": [
      "Training, epoch 1: 100%|██████████| 1599337/1599337 [04:20<00:00, 6134.32it/s]\n"
     ]
    },
    {
     "name": "stdout",
     "output_type": "stream",
     "text": [
      "epoch 1, train loss: 0.016397863851542124\n"
     ]
    },
    {
     "name": "stderr",
     "output_type": "stream",
     "text": [
      "Training, epoch 2:   0%|          | 639/1599337 [00:00<04:10, 6388.09it/s]"
     ]
    },
    {
     "name": "stdout",
     "output_type": "stream",
     "text": [
      "epoch 1, test loss: 0.014552717061578268\n"
     ]
    },
    {
     "name": "stderr",
     "output_type": "stream",
     "text": [
      "Training, epoch 2: 100%|██████████| 1599337/1599337 [04:20<00:00, 6130.44it/s]\n"
     ]
    },
    {
     "name": "stdout",
     "output_type": "stream",
     "text": [
      "epoch 2, train loss: 0.014182039551051993\n"
     ]
    },
    {
     "name": "stderr",
     "output_type": "stream",
     "text": [
      "Training, epoch 3:   0%|          | 1264/1599337 [00:00<04:12, 6317.55it/s]"
     ]
    },
    {
     "name": "stdout",
     "output_type": "stream",
     "text": [
      "epoch 2, test loss: 0.011745428049299341\n"
     ]
    },
    {
     "name": "stderr",
     "output_type": "stream",
     "text": [
      "Training, epoch 3: 100%|██████████| 1599337/1599337 [04:20<00:00, 6139.87it/s]\n"
     ]
    },
    {
     "name": "stdout",
     "output_type": "stream",
     "text": [
      "epoch 3, train loss: 0.013004314614464404\n"
     ]
    },
    {
     "name": "stderr",
     "output_type": "stream",
     "text": [
      "Training, epoch 4:   0%|          | 646/1599337 [00:00<04:07, 6457.74it/s]"
     ]
    },
    {
     "name": "stdout",
     "output_type": "stream",
     "text": [
      "epoch 3, test loss: 0.012039254493471182\n"
     ]
    },
    {
     "name": "stderr",
     "output_type": "stream",
     "text": [
      "Training, epoch 4: 100%|██████████| 1599337/1599337 [04:19<00:00, 6152.71it/s]\n"
     ]
    },
    {
     "name": "stdout",
     "output_type": "stream",
     "text": [
      "epoch 4, train loss: 0.012216422251455802\n"
     ]
    },
    {
     "name": "stderr",
     "output_type": "stream",
     "text": [
      "Training, epoch 5:   0%|          | 1262/1599337 [00:00<04:11, 6349.56it/s]"
     ]
    },
    {
     "name": "stdout",
     "output_type": "stream",
     "text": [
      "epoch 4, test loss: 0.01255616228307649\n"
     ]
    },
    {
     "name": "stderr",
     "output_type": "stream",
     "text": [
      "Training, epoch 5: 100%|██████████| 1599337/1599337 [04:20<00:00, 6132.71it/s]\n"
     ]
    },
    {
     "name": "stdout",
     "output_type": "stream",
     "text": [
      "epoch 5, train loss: 0.011635445409559627\n"
     ]
    },
    {
     "name": "stderr",
     "output_type": "stream",
     "text": [
      "Training, epoch 6:   0%|          | 1226/1599337 [00:00<04:20, 6141.73it/s]"
     ]
    },
    {
     "name": "stdout",
     "output_type": "stream",
     "text": [
      "epoch 5, test loss: 0.010428335975992863\n"
     ]
    },
    {
     "name": "stderr",
     "output_type": "stream",
     "text": [
      "Training, epoch 6: 100%|██████████| 1599337/1599337 [04:20<00:00, 6132.16it/s]\n"
     ]
    },
    {
     "name": "stdout",
     "output_type": "stream",
     "text": [
      "epoch 6, train loss: 0.011199163313310065\n"
     ]
    },
    {
     "name": "stderr",
     "output_type": "stream",
     "text": [
      "Training, epoch 7:   0%|          | 1226/1599337 [00:00<04:20, 6125.69it/s]"
     ]
    },
    {
     "name": "stdout",
     "output_type": "stream",
     "text": [
      "epoch 6, test loss: 0.011257072449460226\n"
     ]
    },
    {
     "name": "stderr",
     "output_type": "stream",
     "text": [
      "Training, epoch 7: 100%|██████████| 1599337/1599337 [04:20<00:00, 6133.38it/s]\n"
     ]
    },
    {
     "name": "stdout",
     "output_type": "stream",
     "text": [
      "epoch 7, train loss: 0.010805480633619718\n"
     ]
    },
    {
     "name": "stderr",
     "output_type": "stream",
     "text": [
      "Training, epoch 8:   0%|          | 635/1599337 [00:00<04:12, 6343.08it/s]"
     ]
    },
    {
     "name": "stdout",
     "output_type": "stream",
     "text": [
      "epoch 7, test loss: 0.011219040458674005\n"
     ]
    },
    {
     "name": "stderr",
     "output_type": "stream",
     "text": [
      "Training, epoch 8: 100%|██████████| 1599337/1599337 [04:20<00:00, 6139.20it/s]\n"
     ]
    },
    {
     "name": "stdout",
     "output_type": "stream",
     "text": [
      "epoch 8, train loss: 0.010477973142994541\n"
     ]
    },
    {
     "name": "stderr",
     "output_type": "stream",
     "text": [
      "Training, epoch 9:   0%|          | 632/1599337 [00:00<04:12, 6319.75it/s]"
     ]
    },
    {
     "name": "stdout",
     "output_type": "stream",
     "text": [
      "epoch 8, test loss: 0.009545839241257507\n"
     ]
    },
    {
     "name": "stderr",
     "output_type": "stream",
     "text": [
      "Training, epoch 9: 100%|██████████| 1599337/1599337 [04:18<00:00, 6183.13it/s]\n"
     ]
    },
    {
     "name": "stdout",
     "output_type": "stream",
     "text": [
      "epoch 9, train loss: 0.01021585703057095\n"
     ]
    },
    {
     "name": "stderr",
     "output_type": "stream",
     "text": [
      "Training, epoch 10:   0%|          | 640/1599337 [00:00<04:09, 6398.10it/s]"
     ]
    },
    {
     "name": "stdout",
     "output_type": "stream",
     "text": [
      "epoch 9, test loss: 0.009799371226115601\n"
     ]
    },
    {
     "name": "stderr",
     "output_type": "stream",
     "text": [
      "Training, epoch 10: 100%|██████████| 1599337/1599337 [04:20<00:00, 6136.89it/s]\n"
     ]
    },
    {
     "name": "stdout",
     "output_type": "stream",
     "text": [
      "epoch 10, train loss: 0.00992376553248404\n"
     ]
    },
    {
     "name": "stderr",
     "output_type": "stream",
     "text": [
      "Training, epoch 11:   0%|          | 1214/1599337 [00:00<04:22, 6092.78it/s]"
     ]
    },
    {
     "name": "stdout",
     "output_type": "stream",
     "text": [
      "epoch 10, test loss: 0.009134561351087197\n"
     ]
    },
    {
     "name": "stderr",
     "output_type": "stream",
     "text": [
      "Training, epoch 11: 100%|██████████| 1599337/1599337 [04:21<00:00, 6123.77it/s]\n"
     ]
    },
    {
     "name": "stdout",
     "output_type": "stream",
     "text": [
      "epoch 11, train loss: 0.009776560343068338\n"
     ]
    },
    {
     "name": "stderr",
     "output_type": "stream",
     "text": [
      "Training, epoch 12:   0%|          | 623/1599337 [00:00<04:17, 6220.31it/s]"
     ]
    },
    {
     "name": "stdout",
     "output_type": "stream",
     "text": [
      "epoch 11, test loss: 0.00922964228930054\n"
     ]
    },
    {
     "name": "stderr",
     "output_type": "stream",
     "text": [
      "Training, epoch 12: 100%|██████████| 1599337/1599337 [04:21<00:00, 6127.69it/s]\n"
     ]
    },
    {
     "name": "stdout",
     "output_type": "stream",
     "text": [
      "epoch 12, train loss: 0.00956141589344963\n"
     ]
    },
    {
     "name": "stderr",
     "output_type": "stream",
     "text": [
      "Training, epoch 13:   0%|          | 1278/1599337 [00:00<04:09, 6410.74it/s]"
     ]
    },
    {
     "name": "stdout",
     "output_type": "stream",
     "text": [
      "epoch 12, test loss: 0.009053487580279681\n"
     ]
    },
    {
     "name": "stderr",
     "output_type": "stream",
     "text": [
      "Training, epoch 13: 100%|██████████| 1599337/1599337 [04:19<00:00, 6152.53it/s]\n"
     ]
    },
    {
     "name": "stdout",
     "output_type": "stream",
     "text": [
      "epoch 13, train loss: 0.0093574674211123\n"
     ]
    },
    {
     "name": "stderr",
     "output_type": "stream",
     "text": [
      "Training, epoch 14:   0%|          | 637/1599337 [00:00<04:11, 6367.39it/s]"
     ]
    },
    {
     "name": "stdout",
     "output_type": "stream",
     "text": [
      "epoch 13, test loss: 0.008691355592153765\n"
     ]
    },
    {
     "name": "stderr",
     "output_type": "stream",
     "text": [
      "Training, epoch 14: 100%|██████████| 1599337/1599337 [04:19<00:00, 6154.13it/s]\n"
     ]
    },
    {
     "name": "stdout",
     "output_type": "stream",
     "text": [
      "epoch 14, train loss: 0.009218270752055656\n"
     ]
    },
    {
     "name": "stderr",
     "output_type": "stream",
     "text": [
      "Training, epoch 15:   0%|          | 501/1599337 [00:00<05:19, 5004.25it/s]"
     ]
    },
    {
     "name": "stdout",
     "output_type": "stream",
     "text": [
      "epoch 14, test loss: 0.008294454185964\n"
     ]
    },
    {
     "name": "stderr",
     "output_type": "stream",
     "text": [
      "Training, epoch 15: 100%|██████████| 1599337/1599337 [04:20<00:00, 6149.43it/s]\n"
     ]
    },
    {
     "name": "stdout",
     "output_type": "stream",
     "text": [
      "epoch 15, train loss: 0.009124042977922029\n"
     ]
    },
    {
     "name": "stderr",
     "output_type": "stream",
     "text": [
      "Training, epoch 16:   0%|          | 626/1599337 [00:00<04:15, 6255.96it/s]"
     ]
    },
    {
     "name": "stdout",
     "output_type": "stream",
     "text": [
      "epoch 15, test loss: 0.009003748157808092\n"
     ]
    },
    {
     "name": "stderr",
     "output_type": "stream",
     "text": [
      "Training, epoch 16: 100%|██████████| 1599337/1599337 [04:20<00:00, 6136.50it/s]\n"
     ]
    },
    {
     "name": "stdout",
     "output_type": "stream",
     "text": [
      "epoch 16, train loss: 0.008965891151936942\n"
     ]
    },
    {
     "name": "stderr",
     "output_type": "stream",
     "text": [
      "Training, epoch 17:   0%|          | 635/1599337 [00:00<04:12, 6343.31it/s]"
     ]
    },
    {
     "name": "stdout",
     "output_type": "stream",
     "text": [
      "epoch 16, test loss: 0.009588394485942597\n"
     ]
    },
    {
     "name": "stderr",
     "output_type": "stream",
     "text": [
      "Training, epoch 17: 100%|██████████| 1599337/1599337 [04:20<00:00, 6134.03it/s]\n"
     ]
    },
    {
     "name": "stdout",
     "output_type": "stream",
     "text": [
      "epoch 17, train loss: 0.00882025511315806\n"
     ]
    },
    {
     "name": "stderr",
     "output_type": "stream",
     "text": [
      "Training, epoch 18:   0%|          | 1280/1599337 [00:00<04:09, 6404.27it/s]"
     ]
    },
    {
     "name": "stdout",
     "output_type": "stream",
     "text": [
      "epoch 17, test loss: 0.00887544147238831\n"
     ]
    },
    {
     "name": "stderr",
     "output_type": "stream",
     "text": [
      "Training, epoch 18: 100%|██████████| 1599337/1599337 [04:20<00:00, 6139.19it/s]\n"
     ]
    },
    {
     "name": "stdout",
     "output_type": "stream",
     "text": [
      "epoch 18, train loss: 0.008701675618247572\n"
     ]
    },
    {
     "name": "stderr",
     "output_type": "stream",
     "text": [
      "Training, epoch 19:   0%|          | 635/1599337 [00:00<04:11, 6347.31it/s]"
     ]
    },
    {
     "name": "stdout",
     "output_type": "stream",
     "text": [
      "epoch 18, test loss: 0.008118825851048872\n"
     ]
    },
    {
     "name": "stderr",
     "output_type": "stream",
     "text": [
      "Training, epoch 19: 100%|██████████| 1599337/1599337 [04:20<00:00, 6144.21it/s]\n"
     ]
    },
    {
     "name": "stdout",
     "output_type": "stream",
     "text": [
      "epoch 19, train loss: 0.008643409985113513\n"
     ]
    },
    {
     "name": "stderr",
     "output_type": "stream",
     "text": [
      "Training, epoch 20:   0%|          | 1275/1599337 [00:00<04:10, 6387.56it/s]"
     ]
    },
    {
     "name": "stdout",
     "output_type": "stream",
     "text": [
      "epoch 19, test loss: 0.010985720737922216\n"
     ]
    },
    {
     "name": "stderr",
     "output_type": "stream",
     "text": [
      "Training, epoch 20: 100%|██████████| 1599337/1599337 [04:22<00:00, 6089.66it/s]\n"
     ]
    },
    {
     "name": "stdout",
     "output_type": "stream",
     "text": [
      "epoch 20, train loss: 0.008530302889928837\n"
     ]
    },
    {
     "name": "stderr",
     "output_type": "stream",
     "text": [
      "Training, epoch 21:   0%|          | 633/1599337 [00:00<04:12, 6326.90it/s]"
     ]
    },
    {
     "name": "stdout",
     "output_type": "stream",
     "text": [
      "epoch 20, test loss: 0.009143973746866912\n"
     ]
    },
    {
     "name": "stderr",
     "output_type": "stream",
     "text": [
      "Training, epoch 21: 100%|██████████| 1599337/1599337 [04:20<00:00, 6144.17it/s]\n"
     ]
    },
    {
     "name": "stdout",
     "output_type": "stream",
     "text": [
      "epoch 21, train loss: 0.008398931407148218\n"
     ]
    },
    {
     "name": "stderr",
     "output_type": "stream",
     "text": [
      "Training, epoch 22:   0%|          | 1262/1599337 [00:00<04:12, 6322.23it/s]"
     ]
    },
    {
     "name": "stdout",
     "output_type": "stream",
     "text": [
      "epoch 21, test loss: 0.008825710580459261\n"
     ]
    },
    {
     "name": "stderr",
     "output_type": "stream",
     "text": [
      "Training, epoch 22: 100%|██████████| 1599337/1599337 [04:16<00:00, 6224.91it/s]\n"
     ]
    },
    {
     "name": "stdout",
     "output_type": "stream",
     "text": [
      "epoch 22, train loss: 0.008349471713564236\n"
     ]
    },
    {
     "name": "stderr",
     "output_type": "stream",
     "text": [
      "Training, epoch 23:   0%|          | 642/1599337 [00:00<04:09, 6411.09it/s]"
     ]
    },
    {
     "name": "stdout",
     "output_type": "stream",
     "text": [
      "epoch 22, test loss: 0.008369694804479617\n"
     ]
    },
    {
     "name": "stderr",
     "output_type": "stream",
     "text": [
      "Training, epoch 23: 100%|██████████| 1599337/1599337 [04:20<00:00, 6144.90it/s]\n"
     ]
    },
    {
     "name": "stdout",
     "output_type": "stream",
     "text": [
      "epoch 23, train loss: 0.008276028919844492\n"
     ]
    },
    {
     "name": "stderr",
     "output_type": "stream",
     "text": [
      "Training, epoch 24:   0%|          | 635/1599337 [00:00<04:12, 6340.27it/s]"
     ]
    },
    {
     "name": "stdout",
     "output_type": "stream",
     "text": [
      "epoch 23, test loss: 0.007933101023886599\n"
     ]
    },
    {
     "name": "stderr",
     "output_type": "stream",
     "text": [
      "Training, epoch 24: 100%|██████████| 1599337/1599337 [04:21<00:00, 6123.17it/s]\n"
     ]
    },
    {
     "name": "stdout",
     "output_type": "stream",
     "text": [
      "epoch 24, train loss: 0.008175678766288082\n"
     ]
    },
    {
     "name": "stderr",
     "output_type": "stream",
     "text": [
      "Training, epoch 25:   0%|          | 1205/1599337 [00:00<04:24, 6037.66it/s]"
     ]
    },
    {
     "name": "stdout",
     "output_type": "stream",
     "text": [
      "epoch 24, test loss: 0.00916397965083102\n"
     ]
    },
    {
     "name": "stderr",
     "output_type": "stream",
     "text": [
      "Training, epoch 25: 100%|██████████| 1599337/1599337 [04:18<00:00, 6176.57it/s]\n"
     ]
    },
    {
     "name": "stdout",
     "output_type": "stream",
     "text": [
      "epoch 25, train loss: 0.008077862934306092\n"
     ]
    },
    {
     "name": "stderr",
     "output_type": "stream",
     "text": [
      "Training, epoch 26:   0%|          | 1269/1599337 [00:00<04:11, 6356.83it/s]"
     ]
    },
    {
     "name": "stdout",
     "output_type": "stream",
     "text": [
      "epoch 25, test loss: 0.009170227270673955\n"
     ]
    },
    {
     "name": "stderr",
     "output_type": "stream",
     "text": [
      "Training, epoch 26: 100%|██████████| 1599337/1599337 [04:21<00:00, 6110.79it/s]\n"
     ]
    },
    {
     "name": "stdout",
     "output_type": "stream",
     "text": [
      "epoch 26, train loss: 0.008045631366474135\n"
     ]
    },
    {
     "name": "stderr",
     "output_type": "stream",
     "text": [
      "Training, epoch 27:   0%|          | 647/1599337 [00:00<04:07, 6460.61it/s]"
     ]
    },
    {
     "name": "stdout",
     "output_type": "stream",
     "text": [
      "epoch 26, test loss: 0.009005531806950639\n"
     ]
    },
    {
     "name": "stderr",
     "output_type": "stream",
     "text": [
      "Training, epoch 27: 100%|██████████| 1599337/1599337 [04:19<00:00, 6170.06it/s]\n"
     ]
    },
    {
     "name": "stdout",
     "output_type": "stream",
     "text": [
      "epoch 27, train loss: 0.007992490161848616\n"
     ]
    },
    {
     "name": "stderr",
     "output_type": "stream",
     "text": [
      "Training, epoch 28:   0%|          | 635/1599337 [00:00<04:12, 6341.74it/s]"
     ]
    },
    {
     "name": "stdout",
     "output_type": "stream",
     "text": [
      "epoch 27, test loss: 0.008275481631017106\n"
     ]
    },
    {
     "name": "stderr",
     "output_type": "stream",
     "text": [
      "Training, epoch 28:  74%|███████▍  | 1186227/1599337 [03:12<01:07, 6078.22it/s]"
     ]
    },
    {
     "name": "stdout",
     "output_type": "stream",
     "text": [
      "Training stopped\n"
     ]
    }
   ],
   "source": [
    "model_description = {\"data\": \"indirect_simple\",\n",
    "                     \"control\": dc.nn.THRUST,\n",
    "                     \"nlayers\": 3,\n",
    "                     \"units\": 32, \n",
    "                     \"output_mode\": dc.nn.OUTPUT_LOG, \n",
    "                     \"dropout\": False,\n",
    "                     \"batch_size\": 8, \n",
    "                     \"epochs\": 32, \n",
    "                     \"lr\": 0.001,\n",
    "                     \"input_vars\" : 5,\n",
    "                     \"hidden_nonlinearity\": \"ReLu\"}\n",
    "\n",
    "dc.nn.train(model_description)"
   ]
  },
  {
   "cell_type": "code",
   "execution_count": 19,
   "metadata": {
    "collapsed": false
   },
   "outputs": [],
   "source": [
    "model_th = dc.nn.load_model('nets/indirect_simple/0/ReLu_outputLog_3_32.model')\n",
    "network_th = dc.nn.load_network(model_th, base_dir='')"
   ]
  },
  {
   "cell_type": "code",
   "execution_count": 20,
   "metadata": {
    "collapsed": false
   },
   "outputs": [],
   "source": [
    "model_dth = dc.nn.load_model('nets/indirect_simple/1/ReLu_outputLog_3_32.model')\n",
    "network_dth = dc.nn.load_network(model_dth, base_dir='')\n",
    "\n",
    "networks = [(model_th, network_th),\n",
    "            (model_dth, network_dth)]"
   ]
  },
  {
   "cell_type": "code",
   "execution_count": 21,
   "metadata": {
    "collapsed": false
   },
   "outputs": [],
   "source": [
    "data = dc.nn.load_training_data(model_dth, '')"
   ]
  },
  {
   "cell_type": "code",
   "execution_count": 22,
   "metadata": {
    "collapsed": false
   },
   "outputs": [
    {
     "data": {
      "text/plain": [
       "<matplotlib.legend.Legend at 0x7efc7bd54390>"
      ]
     },
     "execution_count": 22,
     "metadata": {},
     "output_type": "execute_result"
    },
    {
     "data": {
      "image/png": "[encoded data removed]",
      "text/plain": [
       "<matplotlib.figure.Figure at 0x7efc7bd54128>"
      ]
     },
     "metadata": {},
     "output_type": "display_data"
    }
   ],
   "source": [
    "plt.rcParams['figure.figsize'] = [20,5*len(networks)]\n",
    "\n",
    "fig = plt.figure()\n",
    "\n",
    "batch = 1000\n",
    "b = 10\n",
    "traj_length = 100\n",
    "\n",
    "for s, dset in enumerate(['train', 'test']):\n",
    "    for i,(model,network) in enumerate(networks):\n",
    "        plt.subplot(len(networks), 2, i*2+s+1)\n",
    "        u = np.zeros((batch,len(networks)))\n",
    "        network_input = data['X_'+dset][b*batch:(b+1)*batch,:]\n",
    "        ui = network['pred'](network_input) \n",
    "        u[:,i] = ui[:,0]\n",
    "\n",
    "        u = dc.nn.postprocess(model, u)\n",
    "        u_gt = data['Y_'+dset][b*batch:(b+1)*batch,:].copy()        \n",
    "        u_gt = dc.nn.postprocess(model, u_gt)   \n",
    "                \n",
    "        for j in range(5):\n",
    "            label_1, = plt.plot(np.arange(traj_length)+j*traj_length,u_gt[j*traj_length:(j+1)*traj_length,i], c=sns.color_palette()[0])\n",
    "        \n",
    "        plt.gca().get_xaxis().set_ticks([])\n",
    "        plt.ylabel(r'$' + 'u_'+str(i+1)+'$')\n",
    "        ylims = plt.ylim()\n",
    "\n",
    "        plt.subplot(len(networks), 2, i*2+s+1)        \n",
    "        for j in range(5):\n",
    "            label_2, = plt.plot(np.arange(traj_length)+j*traj_length, u[j*traj_length:(j+1)*traj_length,i], c=sns.color_palette()[1])\n",
    "        \n",
    "        #plt.locator_params(axis='y', nbins=1)\n",
    "        plt.gca().get_xaxis().set_ticks([])\n",
    "        plt.ylim(ylims)\n",
    "        plt.xlabel(dset)\n",
    "                \n",
    "plt.figlegend([label_1,label_2], ['Optimal control', 'DNN predictions'], loc='upper center', ncol=2)\n"
   ]
  },
  {
   "cell_type": "code",
   "execution_count": 248,
   "metadata": {
    "collapsed": false
   },
   "outputs": [],
   "source": [
    "from lasagne import  layers\n",
    "params = layers.get_all_params(network_dth['layers'])"
   ]
  },
  {
   "cell_type": "code",
   "execution_count": 249,
   "metadata": {
    "collapsed": false
   },
   "outputs": [],
   "source": [
    "params = [(params[2*p].get_value(), \n",
    "           params[2*p+1].get_value()) for p in range(int(len(params)/2))]"
   ]
  },
  {
   "cell_type": "code",
   "execution_count": 250,
   "metadata": {
    "collapsed": false
   },
   "outputs": [],
   "source": [
    "f = open('nn.params', 'wt')\n",
    "f.write('L{0}\\n'.format(len(params)))\n",
    "for i, layer in enumerate(params):\n",
    "    f.write('W{0},{1},{2}\\n'.format(i,layer[0].shape[1],layer[0].shape[0]))\n",
    "    for j in range(layer[0].shape[1]):\n",
    "        for k in range(layer[0].shape[0]):\n",
    "            f.write('{0:.16}\\t'.format(layer[0][k,j]))\n",
    "        f.write('\\n')\n",
    "    f.write('b{0},{1},{2}\\n'.format(i,1,layer[1].shape[0]))\n",
    "    for w in layer[1]:\n",
    "        f.write('{0:.16}\\t\\n'.format(w))\n",
    "        \n",
    "f.close()"
   ]
  },
  {
   "cell_type": "code",
   "execution_count": 276,
   "metadata": {
    "collapsed": true
   },
   "outputs": [],
   "source": [
    "x = np.atleast_2d([0,2,0,1,0])"
   ]
  },
  {
   "cell_type": "code",
   "execution_count": 277,
   "metadata": {
    "collapsed": false,
    "scrolled": true
   },
   "outputs": [
    {
     "data": {
      "text/plain": [
       "array([[ 0.17155261]])"
      ]
     },
     "execution_count": 277,
     "metadata": {},
     "output_type": "execute_result"
    }
   ],
   "source": [
    "network_dth['pred'](x)"
   ]
  }
 ],
 "metadata": {
  "kernelspec": {
   "display_name": "Python 3",
   "language": "python",
   "name": "python3"
  },
  "language_info": {
   "codemirror_mode": {
    "name": "ipython",
    "version": 3
   },
   "file_extension": ".py",
   "mimetype": "text/x-python",
   "name": "python",
   "nbconvert_exporter": "python",
   "pygments_lexer": "ipython3",
   "version": "3.5.1"
  }
 },
 "nbformat": 4,
 "nbformat_minor": 0
}
