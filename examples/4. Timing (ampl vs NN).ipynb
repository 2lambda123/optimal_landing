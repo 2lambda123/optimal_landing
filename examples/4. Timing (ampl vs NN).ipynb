{
 "cells": [
  {
   "cell_type": "code",
   "execution_count": 1,
   "metadata": {
    "collapsed": true
   },
   "outputs": [],
   "source": [
    "import sys\n",
    "sys.path.append('..')\n",
    "import deep_control as dc\n",
    "\n",
    "import numpy as np\n"
   ]
  },
  {
   "cell_type": "code",
   "execution_count": 2,
   "metadata": {
    "collapsed": true
   },
   "outputs": [],
   "source": [
    "import matplotlib.pylab as plt\n",
    "import seaborn as sns\n",
    "%matplotlib inline"
   ]
  },
  {
   "cell_type": "code",
   "execution_count": 4,
   "metadata": {
    "collapsed": true
   },
   "outputs": [],
   "source": [
    "import pickle"
   ]
  },
  {
   "cell_type": "code",
   "execution_count": 5,
   "metadata": {
    "collapsed": false
   },
   "outputs": [],
   "source": [
    "[x_train, y_train, x_test, y_test, idx_train] = pickle.load(open('../traj/quadrotor_power.pic', 'rb'))"
   ]
  },
  {
   "cell_type": "code",
   "execution_count": 120,
   "metadata": {
    "collapsed": false
   },
   "outputs": [],
   "source": [
    "import time\n",
    "    \n",
    "def timeNN(networks, x_train):\n",
    "    iters = 100000\n",
    "    t0 = time.time()\n",
    "    m1,n1 = networks[0]\n",
    "    m2,n2 = networks[1]\n",
    "    \n",
    "    for i in range(iters):\n",
    "        \n",
    "\n",
    "        x = x_train[i]\n",
    "        x = dc.nn.preprocess(m1, x)\n",
    "        u1 = n1['pred'](x.reshape(1,-1))[0,0]     \n",
    "        u2 = n2['pred'](x.reshape(1,-1))[0,0]\n",
    "        y = dc.nn.postprocess(m1, np.asarray([u1,u2]).reshape(1,-1)) \n",
    "\n",
    "    tf = time.time()\n",
    "    print((tf-t0)/iters*1000, 'ms')"
   ]
  },
  {
   "cell_type": "code",
   "execution_count": 122,
   "metadata": {
    "collapsed": false
   },
   "outputs": [
    {
     "name": "stdout",
     "output_type": "stream",
     "text": [
      "1 , 1104\n",
      "0.09851061582565307 ms\n"
     ]
    }
   ],
   "source": [
    "model_th = dc.nn.load_model('../nets/mass_clean/0/ReLu_outputLog_1_1104.model')\n",
    "network_th = dc.nn.load_network(model_th, base_dir='../')\n",
    "\n",
    "model_dth = dc.nn.load_model('../nets/mass_clean/1/ReLu_outputLog_1_1104.model')\n",
    "network_dth = dc.nn.load_network(model_dth, base_dir='../')\n",
    "\n",
    "networks = [(model_th,network_th),(model_dth,network_dth)]\n",
    "\n",
    "print(model_th['nlayers'], ',', model_th['units'])\n",
    "timeNN(networks, x_train)"
   ]
  },
  {
   "cell_type": "code",
   "execution_count": 124,
   "metadata": {
    "collapsed": false
   },
   "outputs": [
    {
     "name": "stdout",
     "output_type": "stream",
     "text": [
      "4 , 64\n",
      "0.10701493740081787 ms\n"
     ]
    }
   ],
   "source": [
    "model_th = dc.nn.load_model('../nets/mass_clean/0/ReLu_outputLog_4_64.model')\n",
    "network_th = dc.nn.load_network(model_th, base_dir='../')\n",
    "\n",
    "model_dth = dc.nn.load_model('../nets/mass_clean/1/ReLu_outputLog_4_64.model')\n",
    "network_dth = dc.nn.load_network(model_dth, base_dir='../')\n",
    "\n",
    "networks = [(model_th,network_th),(model_dth,network_dth)]\n",
    "\n",
    "print(model_th['nlayers'], ',', model_th['units'])\n",
    "timeNN(networks, x_train)"
   ]
  },
  {
   "cell_type": "code",
   "execution_count": 125,
   "metadata": {
    "collapsed": false
   },
   "outputs": [
    {
     "name": "stdout",
     "output_type": "stream",
     "text": [
      "4 , 128\n",
      "0.13597254037857054 ms\n"
     ]
    }
   ],
   "source": [
    "model_th = dc.nn.load_model('../nets/mass_clean/1/ReLu_outputLog_4_128.model')\n",
    "network_th = dc.nn.load_network(model_th, base_dir='../')\n",
    "\n",
    "model_dth = dc.nn.load_model('../nets/mass_clean/1/ReLu_outputLog_4_128.model')\n",
    "network_dth = dc.nn.load_network(model_dth, base_dir='../')\n",
    "\n",
    "networks = [(model_th,network_th),(model_dth,network_dth)]\n",
    "\n",
    "print(model_th['nlayers'], ',', model_th['units'])\n",
    "timeNN(networks, x_train)"
   ]
  },
  {
   "cell_type": "code",
   "execution_count": 126,
   "metadata": {
    "collapsed": false
   },
   "outputs": [
    {
     "name": "stdout",
     "output_type": "stream",
     "text": [
      "4 , 256\n",
      "0.22221683979034423 ms\n"
     ]
    }
   ],
   "source": [
    "model_th = dc.nn.load_model('../nets/mass_clean/1/ReLu_outputLog_4_256.model')\n",
    "network_th = dc.nn.load_network(model_th, base_dir='../')\n",
    "\n",
    "model_dth = dc.nn.load_model('../nets/mass_clean/1/ReLu_outputLog_4_256.model')\n",
    "network_dth = dc.nn.load_network(model_dth, base_dir='../')\n",
    "\n",
    "networks = [(model_th,network_th),(model_dth,network_dth)]\n",
    "\n",
    "print(model_th['nlayers'], ',', model_th['units'])\n",
    "timeNN(networks, x_train)"
   ]
  },
  {
   "cell_type": "code",
   "execution_count": 10,
   "metadata": {
    "collapsed": false
   },
   "outputs": [],
   "source": [
    "import time\n",
    "    \n",
    "def timeAMPL(model, x_train, nodes):\n",
    "    iters = 100\n",
    "    t0 = time.time()\n",
    "    for i in range(iters):\n",
    "        x = x_train[i]\n",
    "        conditions = {'n':nodes,\n",
    "              'vx': x[1],\n",
    "              'z': x[2],\n",
    "              'vz': x[3],\n",
    "              'theta': x[4],\n",
    "              'm': x[0]}        \n",
    "        traj = dc.data.get_trajectory(model, conditions)\n",
    "        \n",
    "    tf = time.time()\n",
    "    print((tf-t0)/iters*1000, 'ms')"
   ]
  },
  {
   "cell_type": "code",
   "execution_count": null,
   "metadata": {
    "collapsed": true
   },
   "outputs": [],
   "source": [
    "model = 'main_rw_mass'\n"
   ]
  },
  {
   "cell_type": "code",
   "execution_count": 6,
   "metadata": {
    "collapsed": true
   },
   "outputs": [],
   "source": [
    "[x_train, y_train, x_test, y_test, idx_train] = pickle.load(open('../traj/quadrotor_power.pic', 'rb'))"
   ]
  },
  {
   "cell_type": "code",
   "execution_count": 21,
   "metadata": {
    "collapsed": true
   },
   "outputs": [],
   "source": [
    "model = 'main_quadrotor_power'"
   ]
  },
  {
   "cell_type": "code",
   "execution_count": 22,
   "metadata": {
    "collapsed": false
   },
   "outputs": [
    {
     "name": "stdout",
     "output_type": "stream",
     "text": [
      "5\n",
      "38.86234521865845 ms\n"
     ]
    }
   ],
   "source": [
    "nodes = 5\n",
    "print(nodes)\n",
    "timeAMPL('../SpaceAMPL/lander/hs/' + model + '.mod', x_train, nodes)"
   ]
  },
  {
   "cell_type": "code",
   "execution_count": 23,
   "metadata": {
    "collapsed": false
   },
   "outputs": [
    {
     "name": "stdout",
     "output_type": "stream",
     "text": [
      "20\n",
      "168.71016263961792 ms\n"
     ]
    }
   ],
   "source": [
    "nodes = 20\n",
    "print(nodes)\n",
    "timeAMPL('../SpaceAMPL/lander/hs/' + model + '.mod', x_train, nodes)"
   ]
  },
  {
   "cell_type": "code",
   "execution_count": 24,
   "metadata": {
    "collapsed": false
   },
   "outputs": [
    {
     "name": "stdout",
     "output_type": "stream",
     "text": [
      "50\n",
      "594.8709654808044 ms\n"
     ]
    }
   ],
   "source": [
    "nodes = 50\n",
    "print(nodes)\n",
    "timeAMPL('../SpaceAMPL/lander/hs/' + model + '.mod', x_train, nodes)"
   ]
  },
  {
   "cell_type": "code",
   "execution_count": 25,
   "metadata": {
    "collapsed": true
   },
   "outputs": [],
   "source": [
    "[x_train, y_train, x_test, y_test, idx_train] = pickle.load(open('../traj/quadrotor_time.pic', 'rb'))\n",
    "model = 'main_quadrotor_time'"
   ]
  },
  {
   "cell_type": "code",
   "execution_count": 26,
   "metadata": {
    "collapsed": false
   },
   "outputs": [
    {
     "name": "stdout",
     "output_type": "stream",
     "text": [
      "5\n",
      "32.66479015350342 ms\n"
     ]
    }
   ],
   "source": [
    "nodes = 5\n",
    "print(nodes)\n",
    "timeAMPL('../SpaceAMPL/lander/hs/' + model + '.mod', x_train, nodes)\n"
   ]
  },
  {
   "cell_type": "code",
   "execution_count": 27,
   "metadata": {
    "collapsed": false
   },
   "outputs": [
    {
     "name": "stdout",
     "output_type": "stream",
     "text": [
      "20\n",
      "257.9648518562317 ms\n"
     ]
    }
   ],
   "source": [
    "nodes = 20\n",
    "print(nodes)\n",
    "timeAMPL('../SpaceAMPL/lander/hs/' + model + '.mod', x_train, nodes)"
   ]
  },
  {
   "cell_type": "code",
   "execution_count": 28,
   "metadata": {
    "collapsed": false
   },
   "outputs": [
    {
     "name": "stdout",
     "output_type": "stream",
     "text": [
      "50\n",
      "1245.9835362434387 ms\n"
     ]
    }
   ],
   "source": [
    "nodes = 50\n",
    "print(nodes)\n",
    "timeAMPL('../SpaceAMPL/lander/hs/' + model + '.mod', x_train, nodes)"
   ]
  },
  {
   "cell_type": "code",
   "execution_count": 30,
   "metadata": {
    "collapsed": false
   },
   "outputs": [],
   "source": [
    "[x_train, y_train, x_test, y_test, idx_train] = pickle.load(open('../traj/mass_thrusters.pic', 'rb'))\n"
   ]
  },
  {
   "cell_type": "code",
   "execution_count": 33,
   "metadata": {
    "collapsed": true
   },
   "outputs": [],
   "source": [
    "model = 'main_thrusters'"
   ]
  },
  {
   "cell_type": "code",
   "execution_count": 34,
   "metadata": {
    "collapsed": false
   },
   "outputs": [
    {
     "name": "stdout",
     "output_type": "stream",
     "text": [
      "5\n",
      "72.94856786727905 ms\n",
      "20\n",
      "386.44155263900757 ms\n",
      "50\n",
      "3488.824133872986 ms\n"
     ]
    }
   ],
   "source": [
    "nodes = 5\n",
    "print(nodes)\n",
    "timeAMPL('../SpaceAMPL/lander/hs/' + model + '.mod', x_train, nodes)\n",
    "\n",
    "nodes = 20\n",
    "print(nodes)\n",
    "timeAMPL('../SpaceAMPL/lander/hs/' + model + '.mod', x_train, nodes)\n",
    "\n",
    "\n",
    "nodes = 50\n",
    "print(nodes)\n",
    "timeAMPL('../SpaceAMPL/lander/hs/' + model + '.mod', x_train, nodes)\n"
   ]
  },
  {
   "cell_type": "code",
   "execution_count": 36,
   "metadata": {
    "collapsed": false
   },
   "outputs": [],
   "source": [
    "[x_train, y_train, x_test, y_test, idx_train] = pickle.load(open('../traj/mass_clean.pic', 'rb'))\n"
   ]
  },
  {
   "cell_type": "code",
   "execution_count": 37,
   "metadata": {
    "collapsed": false
   },
   "outputs": [
    {
     "name": "stdout",
     "output_type": "stream",
     "text": [
      "5\n",
      "82.81638860702515 ms\n",
      "20\n",
      "280.70225715637207 ms\n",
      "50\n",
      "1736.792504787445 ms\n"
     ]
    }
   ],
   "source": [
    "model = 'main_rw_mass'\n",
    "nodes = 5\n",
    "print(nodes)\n",
    "timeAMPL('../SpaceAMPL/lander/hs/' + model + '.mod', x_train, nodes)\n",
    "\n",
    "nodes = 20\n",
    "print(nodes)\n",
    "timeAMPL('../SpaceAMPL/lander/hs/' + model + '.mod', x_train, nodes)\n",
    "\n",
    "\n",
    "nodes = 50\n",
    "print(nodes)\n",
    "timeAMPL('../SpaceAMPL/lander/hs/' + model + '.mod', x_train, nodes)\n"
   ]
  },
  {
   "cell_type": "code",
   "execution_count": null,
   "metadata": {
    "collapsed": true
   },
   "outputs": [],
   "source": []
  }
 ],
 "metadata": {
  "kernelspec": {
   "display_name": "Python 3",
   "language": "python",
   "name": "python3"
  },
  "language_info": {
   "codemirror_mode": {
    "name": "ipython",
    "version": 3
   },
   "file_extension": ".py",
   "mimetype": "text/x-python",
   "name": "python",
   "nbconvert_exporter": "python",
   "pygments_lexer": "ipython3",
   "version": "3.5.1"
  }
 },
 "nbformat": 4,
 "nbformat_minor": 0
}
