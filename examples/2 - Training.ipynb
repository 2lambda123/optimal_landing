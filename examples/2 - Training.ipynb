{
 "cells": [
  {
   "cell_type": "markdown",
   "metadata": {},
   "source": [
    "### Training deep neural networks\n",
    "\n",
    "@cesans"
   ]
  },
  {
   "cell_type": "code",
   "execution_count": 1,
   "metadata": {
    "collapsed": true
   },
   "outputs": [],
   "source": [
    "import matplotlib.pyplot as plt\n",
    "%matplotlib inline"
   ]
  },
  {
   "cell_type": "code",
   "execution_count": 2,
   "metadata": {
    "collapsed": false
   },
   "outputs": [
    {
     "name": "stdout",
     "output_type": "stream",
     "text": [
      "Couldn't import dot_parser, loading of dot files will not be possible.\n"
     ]
    }
   ],
   "source": [
    "import sys\n",
    "sys.path.append('..')\n",
    "import numpy as np\n",
    "\n",
    "import deep_control as dc"
   ]
  },
  {
   "cell_type": "markdown",
   "metadata": {},
   "source": [
    "### Loading data"
   ]
  },
  {
   "cell_type": "markdown",
   "metadata": {},
   "source": [
    "Previously generated trajectories can be loaded with *dc.data.load_trajectories*"
   ]
  },
  {
   "cell_type": "code",
   "execution_count": 3,
   "metadata": {
    "collapsed": false
   },
   "outputs": [],
   "source": [
    "# The time column is automatically discarded\n",
    "# For free landing we drop the 'x' column \n",
    "\n",
    "col_names = ['t', 'm', #'x',\n",
    "                             'vx', 'z', 'vz', 'theta', 'vtheta', 'T', 'Tl', 'Tr']\n",
    "\n",
    "cols = [0,1, #2,\n",
    "                 3,4,5,6,7,8,9,10]"
   ]
  },
  {
   "cell_type": "code",
   "execution_count": 4,
   "metadata": {
    "collapsed": false,
    "scrolled": true
   },
   "outputs": [
    {
     "name": "stderr",
     "output_type": "stream",
     "text": [
      "Loading trajectories: 100%|██████████| 100/100 [00:00<00:00, 402.29it/s]\n"
     ]
    }
   ],
   "source": [
    "trajs = dc.data.load_trajectories('data/main_thrusters/', col_names=col_names, cols=cols)"
   ]
  },
  {
   "cell_type": "markdown",
   "metadata": {},
   "source": [
    "## Training"
   ]
  },
  {
   "cell_type": "markdown",
   "metadata": {},
   "source": [
    "From the trajectories we can generate the training sets:"
   ]
  },
  {
   "cell_type": "code",
   "execution_count": 5,
   "metadata": {
    "collapsed": false
   },
   "outputs": [
    {
     "name": "stderr",
     "output_type": "stream",
     "text": [
      "Creating training data: 100%|██████████| 90/90 [00:00<00:00, 1774.48it/s]\n",
      "Creating test data: 100%|██████████| 10/10 [00:00<00:00, 1677.25it/s]\n"
     ]
    }
   ],
   "source": [
    "train_p = 0.9 # proportion of training data\n",
    "x_train, y_train, x_test, y_test, idx_train = dc.data.create_training_data(trajs, train_p = train_p, n_outputs=3)"
   ]
  },
  {
   "cell_type": "code",
   "execution_count": 6,
   "metadata": {
    "collapsed": false
   },
   "outputs": [],
   "source": [
    "dc.nn.save_training_data([x_train, y_train, x_test, y_test, idx_train], \"mass_thrusters\")"
   ]
  },
  {
   "cell_type": "markdown",
   "metadata": {},
   "source": [
    "We specify a model to train"
   ]
  },
  {
   "cell_type": "code",
   "execution_count": 7,
   "metadata": {
    "collapsed": false
   },
   "outputs": [],
   "source": [
    "model_description = {\"data\": \"mass_thrusters\",\n",
    "                     \"control\": dc.nn.THRUST,\n",
    "                     \"nlayers\": 3,\n",
    "                     \"units\": 128, \n",
    "                     \"output_mode\": dc.nn.OUTPUT_LOG, \n",
    "                     \"dropout\": False,\n",
    "                     \"batch_size\": 8, \n",
    "                     \"epochs\": 32, \n",
    "                     \"lr\": 0.001,\n",
    "                     \"input_vars\" : 6,\n",
    "                     \"hidden_nonlinearity\": \"ReLu\"}"
   ]
  },
  {
   "cell_type": "code",
   "execution_count": 9,
   "metadata": {
    "collapsed": false
   },
   "outputs": [
    {
     "name": "stdout",
     "output_type": "stream",
     "text": [
      "=====  MODEL ===========\n",
      "control:0\n",
      "input_vars:6\n",
      "output_mode:0\n",
      "dropout:False\n",
      "batch_size:8\n",
      "epochs:32\n",
      "data:mass_thrusters\n",
      "hidden_nonlinearity:ReLu\n",
      "nlayers:3\n",
      "lr:0.001\n",
      "units:1104\n",
      "========================\n",
      "Loading data...\n",
      "=======================\n",
      "Preprocessing...\n",
      "======================="
     ]
    },
    {
     "name": "stderr",
     "output_type": "stream",
     "text": [
      "Training, epoch 0: 100%|██████████| 1338/1338 [01:21<00:00, 16.32it/s]"
     ]
    },
    {
     "name": "stdout",
     "output_type": "stream",
     "text": [
      "\n",
      "Training...\n",
      "epoch 0, train loss: 0.139448388079\n",
      "epoch 0, test loss: 0.117317342076"
     ]
    },
    {
     "name": "stderr",
     "output_type": "stream",
     "text": [
      "\n",
      "Training, epoch 1:  12%|█▏        | 161/1338 [00:09<01:06, 17.58it/s]"
     ]
    },
    {
     "name": "stdout",
     "output_type": "stream",
     "text": [
      "\n",
      "Training stopped\n"
     ]
    }
   ],
   "source": [
    "dc.nn.train(model_description)"
   ]
  }
 ],
 "metadata": {
  "kernelspec": {
   "display_name": "Python 3",
   "language": "python",
   "name": "python3"
  },
  "language_info": {
   "codemirror_mode": {
    "name": "ipython",
    "version": 3
   },
   "file_extension": ".py",
   "mimetype": "text/x-python",
   "name": "python",
   "nbconvert_exporter": "python",
   "pygments_lexer": "ipython3",
   "version": "3.5.1"
  }
 },
 "nbformat": 4,
 "nbformat_minor": 0
}
